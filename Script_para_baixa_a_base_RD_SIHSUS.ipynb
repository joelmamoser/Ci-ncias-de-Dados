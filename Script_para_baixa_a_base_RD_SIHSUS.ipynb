{
  "nbformat": 4,
  "nbformat_minor": 0,
  "metadata": {
    "colab": {
      "provenance": []
    },
    "kernelspec": {
      "name": "python3",
      "display_name": "Python 3"
    },
    "language_info": {
      "name": "python"
    }
  },
  "cells": [
    {
      "cell_type": "code",
      "execution_count": null,
      "metadata": {
        "colab": {
          "base_uri": "https://localhost:8080/"
        },
        "id": "hWj5mvzHHGS-",
        "outputId": "42d4ff16-ce40-4e47-90fe-c0ef1484d15d"
      },
      "outputs": [
        {
          "output_type": "stream",
          "name": "stdout",
          "text": [
            "Cloning into 'pySUS'...\n",
            "remote: Enumerating objects: 3145, done.\u001b[K\n",
            "remote: Counting objects: 100% (964/964), done.\u001b[K\n",
            "remote: Compressing objects: 100% (364/364), done.\u001b[K\n",
            "remote: Total 3145 (delta 627), reused 806 (delta 586), pack-reused 2181\u001b[K\n",
            "Receiving objects: 100% (3145/3145), 7.59 MiB | 7.81 MiB/s, done.\n",
            "Resolving deltas: 100% (2059/2059), done.\n"
          ]
        }
      ],
      "source": [
        "!git clone https://github.com/AlertaDengue/pySUS.git"
      ]
    },
    {
      "cell_type": "code",
      "source": [
        "from pysus.online_data import parquets_to_dataframe\n",
        "from pysus.online_data.SIH import download"
      ],
      "metadata": {
        "id": "PON8ODpKIOS-"
      },
      "execution_count": null,
      "outputs": []
    },
    {
      "cell_type": "code",
      "source": [
        "# Definindo o estado e o ano que você deseja baixar\n",
        "estado = 'sc'\n",
        "ano = 2022"
      ],
      "metadata": {
        "id": "qcv-dQgnIOdE"
      },
      "execution_count": null,
      "outputs": []
    },
    {
      "cell_type": "code",
      "source": [
        "# Lista para armazenar os dataframes de cada mês\n",
        "dfs_meses = []"
      ],
      "metadata": {
        "id": "gQW3QO-UM7Re"
      },
      "execution_count": null,
      "outputs": []
    },
    {
      "cell_type": "code",
      "source": [
        "# Loop para baixar os dados de todos os meses do ano\n",
        "for mes in range(1, 13):  # Vai de 1 a 12 (12 não incluso)\n",
        "    data_mes = download(estado, ano, mes)\n",
        "    df_mes = parquets_to_dataframe(data_mes)\n",
        "    dfs_meses.append(df_mes)"
      ],
      "metadata": {
        "id": "GzT9BrNFM-Wc"
      },
      "execution_count": null,
      "outputs": []
    },
    {
      "cell_type": "code",
      "source": [
        "import pandas as pd"
      ],
      "metadata": {
        "id": "DheTsrU4O5lT"
      },
      "execution_count": null,
      "outputs": []
    },
    {
      "cell_type": "code",
      "source": [
        "# Concatenando os dataframes de todos os meses em um único dataframe\n",
        "df_ano_completo = pd.concat(dfs_meses)"
      ],
      "metadata": {
        "id": "m8j4vTPHNA6S"
      },
      "execution_count": null,
      "outputs": []
    },
    {
      "cell_type": "code",
      "source": [
        "# Visualizando as primeiras linhas do dataframe resultante\n",
        "print(df_ano_completo.head())\n"
      ],
      "metadata": {
        "colab": {
          "base_uri": "https://localhost:8080/"
        },
        "id": "oqYtR7ZwND66",
        "outputId": "0970679f-1c89-403b-8f24-accf66bc89d2"
      },
      "execution_count": null,
      "outputs": [
        {
          "output_type": "stream",
          "name": "stdout",
          "text": [
            "    UF_ZI ANO_CMPT MES_CMPT ESPEC        CGC_HOSP          N_AIH IDENT  \\\n",
            "0  420820     2022       01    03  60194990002200  4221100313111     1   \n",
            "1  420820     2022       01    03  60194990002200  4221100313430     1   \n",
            "2  420820     2022       01    03  60194990002200  4221100313640     1   \n",
            "3  420820     2022       01    03  60194990002200  4221100313903     1   \n",
            "4  420820     2022       01    03  60194990002200  4221100346122     1   \n",
            "\n",
            "        CEP MUNIC_RES      NASC  ...  DIAGSEC9 TPDISEC1 TPDISEC2 TPDISEC3  \\\n",
            "0  88308165    420820  19481226  ...                  0        0        0   \n",
            "1  88303540    420820  19350520  ...                  0        0        0   \n",
            "2  88309300    420820  19490217  ...                  0        0        0   \n",
            "3  88303110    420820  19680616  ...                  1        0        0   \n",
            "4  88311230    420820  19780729  ...                  0        0        0   \n",
            "\n",
            "  TPDISEC4 TPDISEC5 TPDISEC6 TPDISEC7 TPDISEC8 TPDISEC9  \n",
            "0        0        0        0        0        0        0  \n",
            "1        0        0        0        0        0        0  \n",
            "2        0        0        0        0        0        0  \n",
            "3        0        0        0        0        0        0  \n",
            "4        0        0        0        0        0        0  \n",
            "\n",
            "[5 rows x 113 columns]\n"
          ]
        }
      ]
    },
    {
      "cell_type": "code",
      "source": [
        "df_ano_completo.shape"
      ],
      "metadata": {
        "colab": {
          "base_uri": "https://localhost:8080/"
        },
        "id": "GVu7K07xPB2N",
        "outputId": "7a159430-970b-493b-854f-0de12f99a1cf"
      },
      "execution_count": null,
      "outputs": [
        {
          "output_type": "execute_result",
          "data": {
            "text/plain": [
              "(533388, 113)"
            ]
          },
          "metadata": {},
          "execution_count": 24
        }
      ]
    },
    {
      "cell_type": "code",
      "source": [
        "#Grava o dataframe RD em umm arquivo .csv\n",
        "df_ano_completo.to_csv('SIH_RD_12_2022.csv')"
      ],
      "metadata": {
        "id": "yab6MB6JN3te"
      },
      "execution_count": null,
      "outputs": []
    }
  ]
}